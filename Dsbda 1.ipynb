{
 "cells": [
  {
   "cell_type": "code",
   "execution_count": null,
   "id": "288e6d8e",
   "metadata": {},
   "outputs": [],
   "source": [
    "# 1.Importing all the required python libraries\n",
    "\n",
    "import numpy as np\n",
    "import pandas as pd\n",
    "import matplotlib.pyplot as plt\n",
    "import seaborn as sns"
   ]
  },
  {
   "cell_type": "code",
   "execution_count": null,
   "id": "a4488c1f",
   "metadata": {},
   "outputs": [],
   "source": [
    "import pandas as pd\n",
    "#2 URL of the web site)\n",
    "csv_url = 'https://www.kaggle.com'\n",
    "\n",
    "# 3 Load the Dataset into pandas dataframe.\n",
    "weather = pd.read_csv(\"weatherAUS.csv\")\n",
    "weather.head(5)\n"
   ]
  },
  {
   "cell_type": "code",
   "execution_count": null,
   "id": "73305844",
   "metadata": {},
   "outputs": [],
   "source": [
    "#4 check for missing values in the data using pandas isnull()\n",
    "\n",
    "weather.isnull()\n",
    "\n"
   ]
  },
  {
   "cell_type": "code",
   "execution_count": null,
   "id": "bf2a2d05",
   "metadata": {},
   "outputs": [],
   "source": [
    "weather = weather.fillna(value=0)\n",
    "weather"
   ]
  },
  {
   "cell_type": "code",
   "execution_count": null,
   "id": "ebc0b120",
   "metadata": {
    "scrolled": true
   },
   "outputs": [],
   "source": [
    "# 4 pandas describe()\n",
    "\n",
    "#weather.describe\n",
    "\n",
    "weather.describe(include='all')"
   ]
  },
  {
   "cell_type": "code",
   "execution_count": null,
   "id": "1b8acae7",
   "metadata": {},
   "outputs": [],
   "source": [
    "#4 Check the dimensions of the data frame.\n",
    "weather.shape"
   ]
  },
  {
   "cell_type": "code",
   "execution_count": null,
   "id": "ab3e2c78",
   "metadata": {},
   "outputs": [],
   "source": [
    "#4 checking null values and adding them\n",
    "weather.isnull().sum()"
   ]
  },
  {
   "cell_type": "code",
   "execution_count": null,
   "id": "941fdb8d",
   "metadata": {},
   "outputs": [],
   "source": [
    "weather.isnull().sum().sum()"
   ]
  },
  {
   "cell_type": "code",
   "execution_count": null,
   "id": "5182bce7",
   "metadata": {},
   "outputs": [],
   "source": [
    "#5 checking datatype of variable \n",
    "weather.dtypes"
   ]
  },
  {
   "cell_type": "code",
   "execution_count": null,
   "id": "fbc2c569",
   "metadata": {},
   "outputs": [],
   "source": [
    "# 5 Changing data type of column\n",
    "mean_value=weather['Rainfall'].mean()\n",
    "weather['Rainfall'].fillna(value=mean_value,inplace=True)\n",
    "weather['Rainfall']=weather['Rainfall'].astype(float)\n",
    "weather.dtypes"
   ]
  },
  {
   "cell_type": "code",
   "execution_count": null,
   "id": "035800df",
   "metadata": {},
   "outputs": [],
   "source": [
    "# 6 Converting categorical variables into quantitative variables\n",
    "weather['Location'].replace({'Hobart':1,'Launceston':2,'Williamtown':3},inplace=True)\n",
    "weather.head(3)"
   ]
  }
 ],
 "metadata": {
  "kernelspec": {
   "display_name": "Python 3 (ipykernel)",
   "language": "python",
   "name": "python3"
  },
  "language_info": {
   "codemirror_mode": {
    "name": "ipython",
    "version": 3
   },
   "file_extension": ".py",
   "mimetype": "text/x-python",
   "name": "python",
   "nbconvert_exporter": "python",
   "pygments_lexer": "ipython3",
   "version": "3.9.10"
  }
 },
 "nbformat": 4,
 "nbformat_minor": 5
}
